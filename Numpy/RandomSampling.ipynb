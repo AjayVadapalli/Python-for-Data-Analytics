{
 "cells": [
  {
   "cell_type": "code",
   "execution_count": 1,
   "id": "5ffe9c55-e87a-4edc-a522-5a1cfe736bce",
   "metadata": {},
   "outputs": [],
   "source": [
    "import numpy as np"
   ]
  },
  {
   "cell_type": "code",
   "execution_count": 2,
   "id": "a2e17d02-4dbe-47c3-a6a6-a5792bc8b4c0",
   "metadata": {},
   "outputs": [
    {
     "data": {
      "text/plain": [
       "7"
      ]
     },
     "execution_count": 2,
     "metadata": {},
     "output_type": "execute_result"
    }
   ],
   "source": [
    "np.random.randint(1,10)"
   ]
  },
  {
   "cell_type": "code",
   "execution_count": 4,
   "id": "517d86c8-77ad-48aa-8e15-702d301cde96",
   "metadata": {},
   "outputs": [
    {
     "data": {
      "text/plain": [
       "array([[11, 11, 12],\n",
       "       [13, 13,  9],\n",
       "       [ 1, 11, 12]], dtype=int32)"
      ]
     },
     "execution_count": 4,
     "metadata": {},
     "output_type": "execute_result"
    }
   ],
   "source": [
    "np.random.randint(1,20,(3,3))"
   ]
  },
  {
   "cell_type": "code",
   "execution_count": 5,
   "id": "2b9801df-cf04-4aab-9779-df07e6be358b",
   "metadata": {},
   "outputs": [
    {
     "data": {
      "text/plain": [
       "0.9729639697027106"
      ]
     },
     "execution_count": 5,
     "metadata": {},
     "output_type": "execute_result"
    }
   ],
   "source": [
    "np.random.rand()"
   ]
  },
  {
   "cell_type": "code",
   "execution_count": 7,
   "id": "92fd9de9-d052-4e39-ac8b-691789fde9f4",
   "metadata": {},
   "outputs": [
    {
     "data": {
      "text/plain": [
       "array([[0.11425134, 0.55588344, 0.32884477],\n",
       "       [0.57207209, 0.79012775, 0.1750099 ],\n",
       "       [0.12470588, 0.58467829, 0.81102463]])"
      ]
     },
     "execution_count": 7,
     "metadata": {},
     "output_type": "execute_result"
    }
   ],
   "source": [
    "np.random.rand(3,3)"
   ]
  },
  {
   "cell_type": "code",
   "execution_count": 8,
   "id": "2138e471-274f-4c6d-ae90-d3f821969e24",
   "metadata": {},
   "outputs": [
    {
     "data": {
      "text/plain": [
       "array([[-3.47874177,  0.78741406, -0.44022051],\n",
       "       [-1.04388005, -0.40073692,  0.8246123 ],\n",
       "       [-0.66792271,  0.03235139, -0.54099511]])"
      ]
     },
     "execution_count": 8,
     "metadata": {},
     "output_type": "execute_result"
    }
   ],
   "source": [
    "np.random.randn(3,3)"
   ]
  },
  {
   "cell_type": "code",
   "execution_count": 9,
   "id": "1a6ed2c4-6e75-425c-a866-6ce97003a443",
   "metadata": {},
   "outputs": [
    {
     "data": {
      "text/plain": [
       "np.str_('elderberry')"
      ]
     },
     "execution_count": 9,
     "metadata": {},
     "output_type": "execute_result"
    }
   ],
   "source": [
    "elements = ['apple', 'banana', 'cherry', 'date', 'elderberry']\n",
    "np.random.choice(elements)"
   ]
  },
  {
   "cell_type": "code",
   "execution_count": 10,
   "id": "780490ae-d40f-48c1-b34c-c03e200d41a8",
   "metadata": {},
   "outputs": [
    {
     "data": {
      "text/plain": [
       "array(['elderberry', 'cherry', 'banana'], dtype='<U10')"
      ]
     },
     "execution_count": 10,
     "metadata": {},
     "output_type": "execute_result"
    }
   ],
   "source": [
    "np.random.choice(elements, 3, replace=False)"
   ]
  },
  {
   "cell_type": "code",
   "execution_count": 12,
   "id": "9394326f-725b-40e8-9b31-9fcde3ccd6ef",
   "metadata": {},
   "outputs": [
    {
     "name": "stdout",
     "output_type": "stream",
     "text": [
      "[5 1 3 2 4]\n"
     ]
    }
   ],
   "source": [
    "arr = np.array([1, 2, 3, 4, 5])\n",
    "np.random.shuffle(arr)\n",
    "print(arr)"
   ]
  },
  {
   "cell_type": "code",
   "execution_count": 13,
   "id": "37b5b36f-8e70-40ba-beb5-5c6cca909cad",
   "metadata": {},
   "outputs": [
    {
     "name": "stdout",
     "output_type": "stream",
     "text": [
      "[5 2 4 3 1] \n",
      "\n",
      "[5 1 3 2 4]\n"
     ]
    }
   ],
   "source": [
    "s=np.random.permutation(arr)\n",
    "print(s,\"\\n\")\n",
    "print(arr)"
   ]
  },
  {
   "cell_type": "code",
   "execution_count": 14,
   "id": "9b441ebc-3f36-46af-b29e-0863d1289d6e",
   "metadata": {},
   "outputs": [
    {
     "data": {
      "text/plain": [
       "array([0.32134792, 0.37421675, 0.19283407, 0.0809243 , 0.03067696])"
      ]
     },
     "execution_count": 14,
     "metadata": {},
     "output_type": "execute_result"
    }
   ],
   "source": [
    "np.random.dirichlet(np.ones(5))"
   ]
  },
  {
   "cell_type": "code",
   "execution_count": 17,
   "id": "3e0bd9ac-bc42-4e70-928d-ee5ebbdb6094",
   "metadata": {},
   "outputs": [
    {
     "name": "stdout",
     "output_type": "stream",
     "text": [
      "None\n"
     ]
    }
   ],
   "source": [
    "x=np.random.seed(42)\n",
    "print(x)"
   ]
  }
 ],
 "metadata": {
  "kernelspec": {
   "display_name": "Python 3 (ipykernel)",
   "language": "python",
   "name": "python3"
  },
  "language_info": {
   "codemirror_mode": {
    "name": "ipython",
    "version": 3
   },
   "file_extension": ".py",
   "mimetype": "text/x-python",
   "name": "python",
   "nbconvert_exporter": "python",
   "pygments_lexer": "ipython3",
   "version": "3.12.2"
  }
 },
 "nbformat": 4,
 "nbformat_minor": 5
}
