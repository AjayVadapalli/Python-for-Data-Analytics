{
 "cells": [
  {
   "cell_type": "code",
   "execution_count": 1,
   "id": "11bd3e97-54a2-4f2c-bb99-c5abce9c2e19",
   "metadata": {},
   "outputs": [],
   "source": [
    "import numpy as np"
   ]
  },
  {
   "cell_type": "code",
   "execution_count": 3,
   "id": "548d8bf5-b068-47cd-8b65-ad99b67506ca",
   "metadata": {},
   "outputs": [
    {
     "name": "stdout",
     "output_type": "stream",
     "text": [
      "[ 0  1  2  3  4  5  6  7  8  9 10 11]\n"
     ]
    }
   ],
   "source": [
    "arr = np.arange(12)\n",
    "print(arr)"
   ]
  },
  {
   "cell_type": "code",
   "execution_count": 4,
   "id": "4dabe070-d3ae-48f0-89de-45a7c5b6d6cf",
   "metadata": {},
   "outputs": [
    {
     "data": {
      "text/plain": [
       "array([[ 0,  1,  2,  3],\n",
       "       [ 4,  5,  6,  7],\n",
       "       [ 8,  9, 10, 11]])"
      ]
     },
     "execution_count": 4,
     "metadata": {},
     "output_type": "execute_result"
    }
   ],
   "source": [
    "arr.reshape(3,4)"
   ]
  },
  {
   "cell_type": "code",
   "execution_count": 5,
   "id": "16358eb5-ae14-47bf-b5fd-df47bc517e78",
   "metadata": {},
   "outputs": [
    {
     "data": {
      "text/plain": [
       "array([ 0,  1,  2,  3,  4,  5,  6,  7,  8,  9, 10, 11])"
      ]
     },
     "execution_count": 5,
     "metadata": {},
     "output_type": "execute_result"
    }
   ],
   "source": [
    "arr.flatten()"
   ]
  },
  {
   "cell_type": "code",
   "execution_count": 6,
   "id": "cb5716ad-8079-4735-8f34-f0f6bfb99821",
   "metadata": {},
   "outputs": [
    {
     "data": {
      "text/plain": [
       "array([[1, 2],\n",
       "       [3, 4],\n",
       "       [5, 6],\n",
       "       [7, 8]])"
      ]
     },
     "execution_count": 6,
     "metadata": {},
     "output_type": "execute_result"
    }
   ],
   "source": [
    "a = np.array([[1, 2], [3, 4]])\n",
    "b = np.array([[5, 6], [7, 8]])\n",
    "np.vstack((a,b))"
   ]
  },
  {
   "cell_type": "code",
   "execution_count": 7,
   "id": "13317b20-ffba-454c-a48c-872306a94e0c",
   "metadata": {},
   "outputs": [
    {
     "data": {
      "text/plain": [
       "array([[1, 2, 5, 6],\n",
       "       [3, 4, 7, 8]])"
      ]
     },
     "execution_count": 7,
     "metadata": {},
     "output_type": "execute_result"
    }
   ],
   "source": [
    "np.hstack((a,b))"
   ]
  },
  {
   "cell_type": "code",
   "execution_count": 9,
   "id": "f971206d-2fa8-4abc-a29a-b1b907f19707",
   "metadata": {},
   "outputs": [
    {
     "data": {
      "text/plain": [
       "array([0, 1, 2, 3, 4, 5, 6, 7, 8])"
      ]
     },
     "execution_count": 9,
     "metadata": {},
     "output_type": "execute_result"
    }
   ],
   "source": [
    "np.arange(9)"
   ]
  },
  {
   "cell_type": "code",
   "execution_count": 8,
   "id": "48146784-2bf7-4236-af1a-63eb6399b5b1",
   "metadata": {},
   "outputs": [
    {
     "data": {
      "text/plain": [
       "[array([0, 1, 2, 3]), array([4, 5, 6, 7]), array([ 8,  9, 10, 11])]"
      ]
     },
     "execution_count": 8,
     "metadata": {},
     "output_type": "execute_result"
    }
   ],
   "source": [
    "np.array_split(arr,3)"
   ]
  },
  {
   "cell_type": "code",
   "execution_count": 11,
   "id": "9ddcd589-9262-4b38-9947-194ee77f53ce",
   "metadata": {},
   "outputs": [
    {
     "name": "stdout",
     "output_type": "stream",
     "text": [
      "\n",
      "Transposed Matrix:\n",
      " [[1 4]\n",
      " [2 5]\n",
      " [3 6]]\n"
     ]
    }
   ],
   "source": [
    "matrix = np.array([[1, 2, 3], [4, 5, 6]])\n",
    "transposed = matrix.T\n",
    "print(\"\\nTransposed Matrix:\\n\", transposed)"
   ]
  },
  {
   "cell_type": "code",
   "execution_count": 13,
   "id": "dbdcac23-bb0a-4289-b6a1-7c01e37267c0",
   "metadata": {},
   "outputs": [
    {
     "name": "stdout",
     "output_type": "stream",
     "text": [
      "[[[0.02247626 0.90797771 0.74711469 0.76724189]\n",
      "  [0.76424052 0.23866639 0.30043109 0.36146142]\n",
      "  [0.7919037  0.77612251 0.41334637 0.96473997]]\n",
      "\n",
      " [[0.5987112  0.4042755  0.20461702 0.25212506]\n",
      "  [0.46095732 0.36217714 0.11914029 0.26934973]\n",
      "  [0.1160318  0.78772832 0.15009835 0.33670357]]]\n"
     ]
    }
   ],
   "source": [
    "a = np.random.rand(2, 3, 4)\n",
    "print(a)"
   ]
  },
  {
   "cell_type": "code",
   "execution_count": 18,
   "id": "f7aa5a07-bbb3-4b2a-9153-fe56ccc8dd30",
   "metadata": {},
   "outputs": [
    {
     "name": "stdout",
     "output_type": "stream",
     "text": [
      "[[[0.02247626 0.76424052 0.7919037 ]\n",
      "  [0.90797771 0.23866639 0.77612251]\n",
      "  [0.74711469 0.30043109 0.41334637]\n",
      "  [0.76724189 0.36146142 0.96473997]]\n",
      "\n",
      " [[0.5987112  0.46095732 0.1160318 ]\n",
      "  [0.4042755  0.36217714 0.78772832]\n",
      "  [0.20461702 0.11914029 0.15009835]\n",
      "  [0.25212506 0.26934973 0.33670357]]]\n"
     ]
    }
   ],
   "source": [
    "swapped=np.swapaxes(a,1,2)\n",
    "print(swapped)"
   ]
  },
  {
   "cell_type": "code",
   "execution_count": 19,
   "id": "1b0d6d5a-2776-4fcc-b824-19a0a2553107",
   "metadata": {},
   "outputs": [
    {
     "name": "stdout",
     "output_type": "stream",
     "text": [
      "\n",
      "Original Shape: (2, 3, 4)\n",
      "New Shape after Swapping Axes: (2, 4, 3)\n"
     ]
    }
   ],
   "source": [
    "print(\"\\nOriginal Shape:\", a.shape)\n",
    "print(\"New Shape after Swapping Axes:\", swapped.shape)"
   ]
  }
 ],
 "metadata": {
  "kernelspec": {
   "display_name": "Python 3 (ipykernel)",
   "language": "python",
   "name": "python3"
  },
  "language_info": {
   "codemirror_mode": {
    "name": "ipython",
    "version": 3
   },
   "file_extension": ".py",
   "mimetype": "text/x-python",
   "name": "python",
   "nbconvert_exporter": "python",
   "pygments_lexer": "ipython3",
   "version": "3.12.2"
  }
 },
 "nbformat": 4,
 "nbformat_minor": 5
}
