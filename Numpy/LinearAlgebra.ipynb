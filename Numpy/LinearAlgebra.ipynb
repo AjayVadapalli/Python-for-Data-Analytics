{
 "cells": [
  {
   "cell_type": "code",
   "execution_count": 1,
   "id": "479f166f-3189-423b-8a98-dc936dcc099e",
   "metadata": {},
   "outputs": [],
   "source": [
    "import numpy as np"
   ]
  },
  {
   "cell_type": "code",
   "execution_count": 2,
   "id": "851ccb40-2441-48e1-b993-7078b0d0f9c0",
   "metadata": {},
   "outputs": [],
   "source": [
    "a = np.random.randint(1, 10, (4, 4)) "
   ]
  },
  {
   "cell_type": "code",
   "execution_count": 13,
   "id": "743f0df2-dec5-47b9-91cd-c459e1605705",
   "metadata": {},
   "outputs": [
    {
     "name": "stdout",
     "output_type": "stream",
     "text": [
      "[[7 4 1 1]\n",
      " [5 7 1 3]\n",
      " [7 6 4 1]\n",
      " [9 4 2 4]]\n"
     ]
    }
   ],
   "source": [
    "print(a)"
   ]
  },
  {
   "cell_type": "code",
   "execution_count": 3,
   "id": "12b6250a-8d8d-4bc8-9b54-ff3743bac5f1",
   "metadata": {},
   "outputs": [
    {
     "data": {
      "text/plain": [
       "np.float64(303.00000000000017)"
      ]
     },
     "execution_count": 3,
     "metadata": {},
     "output_type": "execute_result"
    }
   ],
   "source": [
    "np.linalg.det(a)"
   ]
  },
  {
   "cell_type": "code",
   "execution_count": 4,
   "id": "04e04ecc-2b24-41c6-a78b-d50455564c4c",
   "metadata": {},
   "outputs": [
    {
     "data": {
      "text/plain": [
       "array([[ 0.21782178, -0.10561056, -0.04620462,  0.03630363],\n",
       "       [ 0.04950495,  0.18811881,  0.01980198, -0.15841584],\n",
       "       [-0.36633663, -0.12541254,  0.32013201,  0.10561056],\n",
       "       [-0.35643564,  0.11221122, -0.07590759,  0.27392739]])"
      ]
     },
     "execution_count": 4,
     "metadata": {},
     "output_type": "execute_result"
    }
   ],
   "source": [
    "np.linalg.inv(a)"
   ]
  },
  {
   "cell_type": "code",
   "execution_count": 5,
   "id": "8b6f5d65-c91a-41c7-a2a8-245cb2e2610d",
   "metadata": {},
   "outputs": [
    {
     "data": {
      "text/plain": [
       "np.int64(4)"
      ]
     },
     "execution_count": 5,
     "metadata": {},
     "output_type": "execute_result"
    }
   ],
   "source": [
    "np.linalg.matrix_rank(a)"
   ]
  },
  {
   "cell_type": "code",
   "execution_count": 6,
   "id": "5423a9e0-2d22-48f3-a89b-792da77a0f2b",
   "metadata": {},
   "outputs": [],
   "source": [
    "A = np.array([[3, 2, -1], \n",
    "              [2, -2, 4], \n",
    "              [-1, 0.5, -1]])\n",
    "b = np.array([1, -2, 0])"
   ]
  },
  {
   "cell_type": "code",
   "execution_count": 7,
   "id": "7cf5ea45-44d2-43c5-a89a-4c7dc3fd91d7",
   "metadata": {},
   "outputs": [
    {
     "data": {
      "text/plain": [
       "array([ 1., -2., -2.])"
      ]
     },
     "execution_count": 7,
     "metadata": {},
     "output_type": "execute_result"
    }
   ],
   "source": [
    "np.linalg.solve(A,b)"
   ]
  },
  {
   "cell_type": "code",
   "execution_count": 10,
   "id": "b7235f7d-3dfa-40df-9c02-31ad9bdea672",
   "metadata": {},
   "outputs": [
    {
     "name": "stdout",
     "output_type": "stream",
     "text": [
      "\n",
      "Eigenvalues:\n",
      " [ 3.62952412 -3.84451968  0.21499555]\n",
      "\n",
      "Eigenvectors:\n",
      " [[-0.96012493 -0.30609463 -0.32881538]\n",
      " [-0.20984705  0.91344955  0.74686892]\n",
      " [ 0.18472771 -0.2681716   0.57798552]]\n"
     ]
    }
   ],
   "source": [
    "eigvals, eigvecs = np.linalg.eig(A)\n",
    "print(\"\\nEigenvalues:\\n\", eigvals)\n",
    "print(\"\\nEigenvectors:\\n\", eigvecs)"
   ]
  },
  {
   "cell_type": "code",
   "execution_count": 11,
   "id": "459b6654-b314-4da2-998b-d9e6e4a0d0e4",
   "metadata": {},
   "outputs": [
    {
     "name": "stdout",
     "output_type": "stream",
     "text": [
      "L1 norm: 6.0\n",
      "L2 norm: 5.126196943738645\n"
     ]
    }
   ],
   "source": [
    "l1_norm = np.linalg.norm(A, 1) \n",
    "l2_norm = np.linalg.norm(A, 2) \n",
    "print(\"L1 norm:\", l1_norm)\n",
    "print(\"L2 norm:\", l2_norm)"
   ]
  },
  {
   "cell_type": "code",
   "execution_count": 12,
   "id": "f9db1fe2-a085-426a-8b78-346a005c98a3",
   "metadata": {},
   "outputs": [
    {
     "name": "stdout",
     "output_type": "stream",
     "text": [
      "\n",
      "Q:\n",
      " [[-0.80178373  0.59018034  0.0939682 ]\n",
      " [-0.53452248 -0.77853577  0.32888869]\n",
      " [ 0.26726124  0.21346949  0.93968197]]\n",
      "\n",
      "R:\n",
      " [[-3.74165739 -0.40089186 -1.60356745]\n",
      " [ 0.          2.84416696 -3.9177929 ]\n",
      " [ 0.          0.          0.28190459]]\n",
      "\n",
      "Reconstructed A (should be close to original):\n",
      " [[ 3.   2.  -1. ]\n",
      " [ 2.  -2.   4. ]\n",
      " [-1.   0.5 -1. ]]\n"
     ]
    }
   ],
   "source": [
    "Q, R = np.linalg.qr(A)\n",
    "print(\"\\nQ:\\n\", Q)\n",
    "print(\"\\nR:\\n\", R)\n",
    "reconstructed_A = Q @ R\n",
    "print(\"\\nReconstructed A (should be close to original):\\n\", reconstructed_A)"
   ]
  },
  {
   "cell_type": "code",
   "execution_count": null,
   "id": "5339d169-a051-4c51-828a-001a1032f656",
   "metadata": {},
   "outputs": [],
   "source": []
  }
 ],
 "metadata": {
  "kernelspec": {
   "display_name": "Python 3 (ipykernel)",
   "language": "python",
   "name": "python3"
  },
  "language_info": {
   "codemirror_mode": {
    "name": "ipython",
    "version": 3
   },
   "file_extension": ".py",
   "mimetype": "text/x-python",
   "name": "python",
   "nbconvert_exporter": "python",
   "pygments_lexer": "ipython3",
   "version": "3.12.2"
  }
 },
 "nbformat": 4,
 "nbformat_minor": 5
}
