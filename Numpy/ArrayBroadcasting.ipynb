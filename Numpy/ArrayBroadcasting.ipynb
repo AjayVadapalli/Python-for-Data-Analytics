{
 "cells": [
  {
   "cell_type": "code",
   "execution_count": 1,
   "id": "aa482b7a-2e69-45cd-a377-a2ca782daaf7",
   "metadata": {},
   "outputs": [],
   "source": [
    "import numpy as np"
   ]
  },
  {
   "cell_type": "code",
   "execution_count": 2,
   "id": "589e18db-428d-4988-bfe8-5b31bf3558c8",
   "metadata": {},
   "outputs": [],
   "source": [
    "matrix = np.random.randint(1, 21, size=(5, 5))"
   ]
  },
  {
   "cell_type": "code",
   "execution_count": 3,
   "id": "a021443a-4a9e-42d3-8211-1e5b04a8b8a5",
   "metadata": {},
   "outputs": [
    {
     "name": "stdout",
     "output_type": "stream",
     "text": [
      "[[ 2  1 11  5  6]\n",
      " [ 1 15 16  6  2]\n",
      " [ 2 11 11  4  7]\n",
      " [ 2 20 10  9 15]\n",
      " [19  5 12 17 11]]\n"
     ]
    }
   ],
   "source": [
    "print(matrix)"
   ]
  },
  {
   "cell_type": "code",
   "execution_count": 4,
   "id": "a6b94292-8f1a-4d0f-8ed8-9b7c031c2ece",
   "metadata": {},
   "outputs": [],
   "source": [
    "array_1d = np.array([5, 10, 15, 20, 25])"
   ]
  },
  {
   "cell_type": "code",
   "execution_count": 5,
   "id": "6386bf51-b668-4f9d-a80d-07370f449636",
   "metadata": {},
   "outputs": [
    {
     "name": "stdout",
     "output_type": "stream",
     "text": [
      "[ 5 10 15 20 25]\n"
     ]
    }
   ],
   "source": [
    "print(array_1d)"
   ]
  },
  {
   "cell_type": "code",
   "execution_count": 6,
   "id": "7c0bc399-809d-4a05-90de-ebe957935ee8",
   "metadata": {},
   "outputs": [],
   "source": [
    "result = matrix + array_1d"
   ]
  },
  {
   "cell_type": "code",
   "execution_count": 7,
   "id": "3977ad94-4626-4e6b-83af-0dbc7450c11c",
   "metadata": {},
   "outputs": [
    {
     "name": "stdout",
     "output_type": "stream",
     "text": [
      "[[ 7 11 26 25 31]\n",
      " [ 6 25 31 26 27]\n",
      " [ 7 21 26 24 32]\n",
      " [ 7 30 25 29 40]\n",
      " [24 15 27 37 36]]\n"
     ]
    }
   ],
   "source": [
    "print(result)"
   ]
  },
  {
   "cell_type": "code",
   "execution_count": 8,
   "id": "d6311b9e-bd13-432e-9199-5be72d44a918",
   "metadata": {},
   "outputs": [],
   "source": [
    "matrix1 = np.array([[1, 2, 3], [4, 5, 6]])"
   ]
  },
  {
   "cell_type": "code",
   "execution_count": 9,
   "id": "bd34dd17-e6ae-45a0-a795-e898b3cf8fc8",
   "metadata": {},
   "outputs": [],
   "source": [
    "vector = np.array([2, 3, 4])"
   ]
  },
  {
   "cell_type": "code",
   "execution_count": 11,
   "id": "28979ebf-d789-4d5a-926a-a8ff85e79aff",
   "metadata": {},
   "outputs": [],
   "source": [
    "result = matrix1 * vector "
   ]
  },
  {
   "cell_type": "code",
   "execution_count": 12,
   "id": "d73d9b30-5195-4a73-a3fd-8eab178fdba9",
   "metadata": {},
   "outputs": [
    {
     "name": "stdout",
     "output_type": "stream",
     "text": [
      "[[ 2  6 12]\n",
      " [ 8 15 24]]\n"
     ]
    }
   ],
   "source": [
    "print(result)"
   ]
  }
 ],
 "metadata": {
  "kernelspec": {
   "display_name": "Python 3 (ipykernel)",
   "language": "python",
   "name": "python3"
  },
  "language_info": {
   "codemirror_mode": {
    "name": "ipython",
    "version": 3
   },
   "file_extension": ".py",
   "mimetype": "text/x-python",
   "name": "python",
   "nbconvert_exporter": "python",
   "pygments_lexer": "ipython3",
   "version": "3.12.2"
  }
 },
 "nbformat": 4,
 "nbformat_minor": 5
}
