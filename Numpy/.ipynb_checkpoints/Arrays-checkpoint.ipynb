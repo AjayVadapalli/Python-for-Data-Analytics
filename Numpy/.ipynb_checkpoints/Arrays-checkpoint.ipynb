{
 "cells": [
  {
   "cell_type": "code",
   "execution_count": 2,
   "id": "a2475cc2-d77b-42ef-be4d-61262e90cd71",
   "metadata": {},
   "outputs": [],
   "source": [
    "import numpy as np"
   ]
  },
  {
   "cell_type": "code",
   "execution_count": 3,
   "id": "a09df2a7-f835-4b62-84e1-c0b09cfcf347",
   "metadata": {},
   "outputs": [],
   "source": [
    "arr = np.arange(21)"
   ]
  },
  {
   "cell_type": "code",
   "execution_count": 4,
   "id": "017bf8e2-4890-486b-959c-a0ada2be1582",
   "metadata": {},
   "outputs": [
    {
     "name": "stdout",
     "output_type": "stream",
     "text": [
      "[ 0  1  2  3  4  5  6  7  8  9 10 11 12 13 14 15 16 17 18 19 20]\n"
     ]
    }
   ],
   "source": [
    "print(arr)"
   ]
  },
  {
   "cell_type": "code",
   "execution_count": 5,
   "id": "d005d6cc-7476-4283-963b-e3d861662eb6",
   "metadata": {},
   "outputs": [],
   "source": [
    "reshaped_arr = arr[:20].reshape(4,5)"
   ]
  },
  {
   "cell_type": "code",
   "execution_count": 6,
   "id": "53794889-2f9d-4b05-ab04-f27a4d09d9ba",
   "metadata": {},
   "outputs": [
    {
     "name": "stdout",
     "output_type": "stream",
     "text": [
      "[[ 0  1  2  3  4]\n",
      " [ 5  6  7  8  9]\n",
      " [10 11 12 13 14]\n",
      " [15 16 17 18 19]]\n"
     ]
    }
   ],
   "source": [
    "print(reshaped_arr)"
   ]
  },
  {
   "cell_type": "code",
   "execution_count": 7,
   "id": "97240db3-10d9-4ffc-8902-501146341c7d",
   "metadata": {},
   "outputs": [
    {
     "data": {
      "text/plain": [
       "array([[ 0,  2,  4,  6,  8],\n",
       "       [10, 12, 14, 16, 18],\n",
       "       [20, 22, 24, 26, 28],\n",
       "       [30, 32, 34, 36, 38]])"
      ]
     },
     "execution_count": 7,
     "metadata": {},
     "output_type": "execute_result"
    }
   ],
   "source": [
    "reshaped_arr*2"
   ]
  },
  {
   "cell_type": "code",
   "execution_count": 9,
   "id": "bc109e95-0ca7-4218-92cd-b34909336c78",
   "metadata": {},
   "outputs": [],
   "source": [
    "arr1 = np.random.randint(10,51,size=(6,6))"
   ]
  },
  {
   "cell_type": "code",
   "execution_count": 10,
   "id": "cbdbdcf3-6c11-460b-90bd-ea953bbcb759",
   "metadata": {},
   "outputs": [
    {
     "name": "stdout",
     "output_type": "stream",
     "text": [
      "[[48 41 33 11 25 29]\n",
      " [44 48 44 18 44 31]\n",
      " [36 11 18 40 15 40]\n",
      " [19 12 44 24 34 14]\n",
      " [18 38 34 18 28 26]\n",
      " [29 12 46 17 18 28]]\n"
     ]
    }
   ],
   "source": [
    "print(arr1)"
   ]
  },
  {
   "cell_type": "code",
   "execution_count": 12,
   "id": "96493d8b-d80f-42dc-9635-27ea6f90dc8d",
   "metadata": {},
   "outputs": [],
   "source": [
    "mid_arr = arr1[2:4,2:4]"
   ]
  },
  {
   "cell_type": "code",
   "execution_count": 13,
   "id": "75b071eb-3c08-4370-9821-b428bc806062",
   "metadata": {},
   "outputs": [
    {
     "name": "stdout",
     "output_type": "stream",
     "text": [
      "[[18 40]\n",
      " [44 24]]\n"
     ]
    }
   ],
   "source": [
    "print(mid_arr)"
   ]
  },
  {
   "cell_type": "code",
   "execution_count": 14,
   "id": "1b369a23-21ea-4470-a5e4-699f4f7d6bc1",
   "metadata": {},
   "outputs": [],
   "source": [
    "last_col = arr1[:,-2:]"
   ]
  },
  {
   "cell_type": "code",
   "execution_count": 15,
   "id": "086b6024-10ed-4f4c-b31c-c8cc8f271246",
   "metadata": {},
   "outputs": [
    {
     "name": "stdout",
     "output_type": "stream",
     "text": [
      "[[25 29]\n",
      " [44 31]\n",
      " [15 40]\n",
      " [34 14]\n",
      " [28 26]\n",
      " [18 28]]\n"
     ]
    }
   ],
   "source": [
    "print(last_col)"
   ]
  }
 ],
 "metadata": {
  "kernelspec": {
   "display_name": "Python 3 (ipykernel)",
   "language": "python",
   "name": "python3"
  },
  "language_info": {
   "codemirror_mode": {
    "name": "ipython",
    "version": 3
   },
   "file_extension": ".py",
   "mimetype": "text/x-python",
   "name": "python",
   "nbconvert_exporter": "python",
   "pygments_lexer": "ipython3",
   "version": "3.12.2"
  }
 },
 "nbformat": 4,
 "nbformat_minor": 5
}
