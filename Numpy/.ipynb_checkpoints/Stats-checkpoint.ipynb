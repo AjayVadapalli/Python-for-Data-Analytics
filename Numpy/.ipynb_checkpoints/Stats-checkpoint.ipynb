{
 "cells": [
  {
   "cell_type": "code",
   "execution_count": 1,
   "id": "59e48517-b192-42ec-b188-d7a0378e635a",
   "metadata": {},
   "outputs": [],
   "source": [
    "import numpy as np"
   ]
  },
  {
   "cell_type": "code",
   "execution_count": 2,
   "id": "b9b4006d-6422-4b00-94a1-39a94a49b7f3",
   "metadata": {},
   "outputs": [],
   "source": [
    "matrix = np.random.randint(1,101,size=(5,5))"
   ]
  },
  {
   "cell_type": "code",
   "execution_count": 5,
   "id": "56353f6e-80cc-486a-8806-b878a5dcffd1",
   "metadata": {},
   "outputs": [
    {
     "name": "stdout",
     "output_type": "stream",
     "text": [
      "[[36 79 59 37  3]\n",
      " [70 31 49 92 22]\n",
      " [35 91 89 98 46]\n",
      " [14 22 94 33 74]\n",
      " [47 14 67 84 76]]\n"
     ]
    }
   ],
   "source": [
    "print(matrix)"
   ]
  },
  {
   "cell_type": "code",
   "execution_count": 6,
   "id": "ffd196e5-2209-4776-8e71-e492094cb28c",
   "metadata": {},
   "outputs": [],
   "source": [
    "mean = np.mean(matrix)"
   ]
  },
  {
   "cell_type": "code",
   "execution_count": 7,
   "id": "2e7eb996-3f65-4ec3-a27c-eb4679096d9f",
   "metadata": {},
   "outputs": [
    {
     "name": "stdout",
     "output_type": "stream",
     "text": [
      "54.48\n"
     ]
    }
   ],
   "source": [
    "print(mean)"
   ]
  },
  {
   "cell_type": "code",
   "execution_count": 8,
   "id": "a959ae82-0a37-4f16-92e2-36204a572dc7",
   "metadata": {},
   "outputs": [
    {
     "data": {
      "text/plain": [
       "np.float64(28.536460887783544)"
      ]
     },
     "execution_count": 8,
     "metadata": {},
     "output_type": "execute_result"
    }
   ],
   "source": [
    "np.std(matrix)"
   ]
  },
  {
   "cell_type": "code",
   "execution_count": 9,
   "id": "9ad6d366-8718-4031-a37f-0387edccea3f",
   "metadata": {},
   "outputs": [
    {
     "data": {
      "text/plain": [
       "np.float64(33.0)"
      ]
     },
     "execution_count": 9,
     "metadata": {},
     "output_type": "execute_result"
    }
   ],
   "source": [
    "np.percentile(matrix,25)"
   ]
  },
  {
   "cell_type": "code",
   "execution_count": 10,
   "id": "b16ca11f-a85a-4be5-8931-0998f0e5eb4c",
   "metadata": {},
   "outputs": [
    {
     "data": {
      "text/plain": [
       "np.float64(49.0)"
      ]
     },
     "execution_count": 10,
     "metadata": {},
     "output_type": "execute_result"
    }
   ],
   "source": [
    "np.median(matrix)"
   ]
  },
  {
   "cell_type": "code",
   "execution_count": 11,
   "id": "d423fec2-6219-4406-9dec-e60d37e76312",
   "metadata": {},
   "outputs": [
    {
     "data": {
      "text/plain": [
       "np.int32(3)"
      ]
     },
     "execution_count": 11,
     "metadata": {},
     "output_type": "execute_result"
    }
   ],
   "source": [
    "np.min(matrix)"
   ]
  },
  {
   "cell_type": "code",
   "execution_count": 12,
   "id": "a509fd11-081f-4454-8a7d-6dd33cd6a63a",
   "metadata": {},
   "outputs": [
    {
     "data": {
      "text/plain": [
       "np.int32(98)"
      ]
     },
     "execution_count": 12,
     "metadata": {},
     "output_type": "execute_result"
    }
   ],
   "source": [
    "np.max(matrix)"
   ]
  },
  {
   "cell_type": "code",
   "execution_count": 13,
   "id": "f4eb55d2-cd8f-469e-b609-e2def0b0b54b",
   "metadata": {},
   "outputs": [
    {
     "data": {
      "text/plain": [
       "np.float64(814.3296)"
      ]
     },
     "execution_count": 13,
     "metadata": {},
     "output_type": "execute_result"
    }
   ],
   "source": [
    "np.var(matrix)"
   ]
  },
  {
   "cell_type": "code",
   "execution_count": 14,
   "id": "625be8d8-ad7f-470c-9a8f-a32852f6619e",
   "metadata": {},
   "outputs": [
    {
     "data": {
      "text/plain": [
       "array([42.8, 52.8, 71.8, 47.4, 57.6])"
      ]
     },
     "execution_count": 14,
     "metadata": {},
     "output_type": "execute_result"
    }
   ],
   "source": [
    "np.mean(matrix,axis=1) #mean of each row"
   ]
  },
  {
   "cell_type": "code",
   "execution_count": 15,
   "id": "1bbfc770-39c4-413e-bb91-189fa0e73559",
   "metadata": {},
   "outputs": [
    {
     "data": {
      "text/plain": [
       "array([40.4, 47.4, 71.6, 68.8, 44.2])"
      ]
     },
     "execution_count": 15,
     "metadata": {},
     "output_type": "execute_result"
    }
   ],
   "source": [
    "np.mean(matrix, axis=0)  # Mean of each column"
   ]
  },
  {
   "cell_type": "code",
   "execution_count": 16,
   "id": "20bf8759-70d8-4651-a375-b87b3b1bbdf5",
   "metadata": {},
   "outputs": [
    {
     "data": {
      "text/plain": [
       "np.float64(79.0)"
      ]
     },
     "execution_count": 16,
     "metadata": {},
     "output_type": "execute_result"
    }
   ],
   "source": [
    "np.percentile(matrix, 75)"
   ]
  }
 ],
 "metadata": {
  "kernelspec": {
   "display_name": "Python 3 (ipykernel)",
   "language": "python",
   "name": "python3"
  },
  "language_info": {
   "codemirror_mode": {
    "name": "ipython",
    "version": 3
   },
   "file_extension": ".py",
   "mimetype": "text/x-python",
   "name": "python",
   "nbconvert_exporter": "python",
   "pygments_lexer": "ipython3",
   "version": "3.12.2"
  }
 },
 "nbformat": 4,
 "nbformat_minor": 5
}
