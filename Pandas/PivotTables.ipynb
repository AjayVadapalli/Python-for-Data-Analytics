{
 "cells": [
  {
   "cell_type": "code",
   "execution_count": 1,
   "id": "07292a15-77cb-4f6d-b17c-b1f61288c8ec",
   "metadata": {},
   "outputs": [],
   "source": [
    "import pandas as pd\n",
    "\n",
    "# Sample dataset\n",
    "data = {\n",
    "    \"Employee\": [\"Alice\", \"Bob\", \"Charlie\", \"Alice\", \"Bob\", \"Charlie\"],\n",
    "    \"Department\": [\"HR\", \"IT\", \"Finance\", \"HR\", \"IT\", \"Finance\"],\n",
    "    \"Month\": [\"Jan\", \"Jan\", \"Jan\", \"Feb\", \"Feb\", \"Feb\"],\n",
    "    \"Sales\": [5000, 7000, 6000, 5200, 7200, 6100]\n",
    "}\n",
    "\n",
    "df = pd.DataFrame(data)"
   ]
  },
  {
   "cell_type": "code",
   "execution_count": 2,
   "id": "0605852b-9059-4b5b-8356-4a3a072e2067",
   "metadata": {},
   "outputs": [
    {
     "name": "stdout",
     "output_type": "stream",
     "text": [
      "Month      Feb   Jan\n",
      "Employee            \n",
      "Alice     5200  5000\n",
      "Bob       7200  7000\n",
      "Charlie   6100  6000\n"
     ]
    }
   ],
   "source": [
    "pivot_table = df.pivot_table(\n",
    "    index=\"Employee\",   # Rows\n",
    "    columns=\"Month\",    # Columns\n",
    "    values=\"Sales\",     # Data to aggregate\n",
    "    aggfunc=\"sum\"       # Aggregation function\n",
    ")\n",
    "\n",
    "print(pivot_table)"
   ]
  },
  {
   "cell_type": "code",
   "execution_count": 3,
   "id": "f712ae82-9440-43d1-acd8-aa63496f5864",
   "metadata": {},
   "outputs": [
    {
     "name": "stdout",
     "output_type": "stream",
     "text": [
      "              sum    mean\n",
      "            Sales   Sales\n",
      "Department               \n",
      "Finance     12100  6050.0\n",
      "HR          10200  5100.0\n",
      "IT          14200  7100.0\n"
     ]
    }
   ],
   "source": [
    "pivot_table = df.pivot_table(index=\"Department\", values=\"Sales\", aggfunc=[\"sum\", \"mean\"])\n",
    "print(pivot_table)"
   ]
  },
  {
   "cell_type": "code",
   "execution_count": 4,
   "id": "95415984-8e06-40e0-b573-134273565588",
   "metadata": {},
   "outputs": [
    {
     "name": "stdout",
     "output_type": "stream",
     "text": [
      "                     Sales\n",
      "Department Employee       \n",
      "Finance    Charlie   12100\n",
      "HR         Alice     10200\n",
      "IT         Bob       14200\n"
     ]
    }
   ],
   "source": [
    "pivot_table = df.pivot_table(index=[\"Department\", \"Employee\"], values=\"Sales\", aggfunc=\"sum\")\n",
    "print(pivot_table)"
   ]
  },
  {
   "cell_type": "code",
   "execution_count": 5,
   "id": "b0d83e05-01e2-4e12-a772-f28182c7f884",
   "metadata": {},
   "outputs": [
    {
     "name": "stdout",
     "output_type": "stream",
     "text": [
      "Department  Finance  HR  IT\n",
      "Employee                   \n",
      "Alice             0   2   0\n",
      "Bob               0   0   2\n",
      "Charlie           2   0   0\n"
     ]
    }
   ],
   "source": [
    "crosstab = pd.crosstab(df[\"Employee\"], df[\"Department\"])\n",
    "print(crosstab)"
   ]
  },
  {
   "cell_type": "code",
   "execution_count": 6,
   "id": "a6ea254a-0d9c-47b9-a58f-77aaba7acc5f",
   "metadata": {},
   "outputs": [
    {
     "name": "stdout",
     "output_type": "stream",
     "text": [
      "Month        Feb   Jan\n",
      "Department            \n",
      "Finance     6100  6000\n",
      "HR          5200  5000\n",
      "IT          7200  7000\n"
     ]
    }
   ],
   "source": [
    "crosstab = pd.crosstab(df[\"Department\"], df[\"Month\"], values=df[\"Sales\"], aggfunc=\"sum\")\n",
    "print(crosstab)"
   ]
  },
  {
   "cell_type": "code",
   "execution_count": null,
   "id": "89681cdd-c5df-4a4a-8686-adf6e78150fa",
   "metadata": {},
   "outputs": [],
   "source": [
    "# pivot_table()\t                        Summarize numerical data with grouping & aggregation\n",
    "# crosstab()\t                        Count occurrences of categories\n",
    "# pivot_table(aggfunc=[\"sum\", \"mean\"])\tApply multiple aggregations"
   ]
  }
 ],
 "metadata": {
  "kernelspec": {
   "display_name": "Python 3 (ipykernel)",
   "language": "python",
   "name": "python3"
  },
  "language_info": {
   "codemirror_mode": {
    "name": "ipython",
    "version": 3
   },
   "file_extension": ".py",
   "mimetype": "text/x-python",
   "name": "python",
   "nbconvert_exporter": "python",
   "pygments_lexer": "ipython3",
   "version": "3.12.2"
  }
 },
 "nbformat": 4,
 "nbformat_minor": 5
}
