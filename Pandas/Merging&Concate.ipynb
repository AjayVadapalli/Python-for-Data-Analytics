{
 "cells": [
  {
   "cell_type": "code",
   "execution_count": 1,
   "id": "f44210b2-0b2d-4131-a38c-bf6ac01342ae",
   "metadata": {},
   "outputs": [],
   "source": [
    "import pandas as pd"
   ]
  },
  {
   "cell_type": "code",
   "execution_count": 2,
   "id": "6a2c1cc6-0a9c-44d3-98e8-e0f02ffbf075",
   "metadata": {},
   "outputs": [],
   "source": [
    "df1 = pd.DataFrame({\"ID\": [1, 2], \"Name\": [\"Alice\", \"Bob\"]})\n",
    "df2 = pd.DataFrame({\"ID\": [3, 4], \"Name\": [\"Charlie\", \"David\"]})"
   ]
  },
  {
   "cell_type": "code",
   "execution_count": 3,
   "id": "ad17182f-c0bc-4aab-a1d7-39c370c66f7c",
   "metadata": {},
   "outputs": [
    {
     "name": "stdout",
     "output_type": "stream",
     "text": [
      "   ID     Name\n",
      "0   1    Alice\n",
      "1   2      Bob\n",
      "2   3  Charlie\n",
      "3   4    David\n"
     ]
    }
   ],
   "source": [
    "# Concatenating (stacking rows)\n",
    "df_concat = pd.concat([df1, df2], ignore_index=True)\n",
    "\n",
    "print(df_concat)"
   ]
  },
  {
   "cell_type": "code",
   "execution_count": 5,
   "id": "4ac590f9-3f27-4ecd-b683-fae965839fdc",
   "metadata": {},
   "outputs": [
    {
     "name": "stdout",
     "output_type": "stream",
     "text": [
      "   ID   Name  Age\n",
      "0   1  Alice   25\n",
      "1   2    Bob   30\n"
     ]
    }
   ],
   "source": [
    "df3 = pd.DataFrame({\"Age\": [25, 30]})\n",
    "df_concat_col = pd.concat([df1,df3],axis=1)\n",
    "print(df_concat_col)"
   ]
  },
  {
   "cell_type": "code",
   "execution_count": 6,
   "id": "7b93bf0d-996a-42d9-b569-d0b727bf474b",
   "metadata": {},
   "outputs": [],
   "source": [
    "df1 = pd.DataFrame({\"ID\": [1, 2, 3], \"Name\": [\"Alice\", \"Bob\", \"Charlie\"]})\n",
    "df2 = pd.DataFrame({\"ID\": [2, 3, 4], \"Salary\": [60000, 70000, 80000]})"
   ]
  },
  {
   "cell_type": "code",
   "execution_count": 7,
   "id": "54983b2a-b785-49a7-8706-e7ee16b8857b",
   "metadata": {},
   "outputs": [
    {
     "name": "stdout",
     "output_type": "stream",
     "text": [
      "   ID     Name  Salary\n",
      "0   2      Bob   60000\n",
      "1   3  Charlie   70000\n"
     ]
    }
   ],
   "source": [
    "df_merge = pd.merge(df1,df2,on = \"ID\",how=\"inner\")\n",
    "print(df_merge)\n",
    "# how=\"inner\" keeps only matching rows."
   ]
  },
  {
   "cell_type": "code",
   "execution_count": 8,
   "id": "f6f5edb7-243e-47d8-93ea-f18db46db2ed",
   "metadata": {},
   "outputs": [
    {
     "name": "stdout",
     "output_type": "stream",
     "text": [
      "   ID     Name   Salary\n",
      "0   1    Alice      NaN\n",
      "1   2      Bob  60000.0\n",
      "2   3  Charlie  70000.0\n"
     ]
    }
   ],
   "source": [
    "df_merge_left = pd.merge(df1, df2, on=\"ID\", how=\"left\")\n",
    "print(df_merge_left)\n",
    "# how=\"left\" keeps all rows from df1 and fills missing values (NaN) if no match is found in df2."
   ]
  },
  {
   "cell_type": "code",
   "execution_count": 9,
   "id": "98e9c3dd-3eff-426a-9a7d-5fe8cf0d63ce",
   "metadata": {},
   "outputs": [
    {
     "name": "stdout",
     "output_type": "stream",
     "text": [
      "   ID     Name  Salary\n",
      "0   2      Bob   60000\n",
      "1   3  Charlie   70000\n",
      "2   4      NaN   80000\n"
     ]
    }
   ],
   "source": [
    "df_merge_right = pd.merge(df1, df2, on=\"ID\", how=\"right\")\n",
    "print(df_merge_right)"
   ]
  },
  {
   "cell_type": "code",
   "execution_count": null,
   "id": "e0deb994-99a8-43a5-bae1-1d0b16e3868d",
   "metadata": {},
   "outputs": [],
   "source": [
    "# how=\"right\" keeps all rows from df2, and missing values are filled in df1."
   ]
  },
  {
   "cell_type": "code",
   "execution_count": 10,
   "id": "e5e06ee8-35cf-42a0-9f93-b6dffad2e12f",
   "metadata": {},
   "outputs": [
    {
     "name": "stdout",
     "output_type": "stream",
     "text": [
      "   ID     Name   Salary\n",
      "0   1    Alice      NaN\n",
      "1   2      Bob  60000.0\n",
      "2   3  Charlie  70000.0\n",
      "3   4      NaN  80000.0\n"
     ]
    }
   ],
   "source": [
    "df_merge_outer = pd.merge(df1, df2, on=\"ID\", how=\"outer\")\n",
    "print(df_merge_outer)\n",
    "# how=\"outer\" keeps all records from both DataFrames."
   ]
  },
  {
   "cell_type": "code",
   "execution_count": 11,
   "id": "98e400fa-0c71-4d2f-a4fe-a68167b78d41",
   "metadata": {},
   "outputs": [],
   "source": [
    "df1 = pd.DataFrame({\"Name\": [\"Alice\", \"Bob\", \"Charlie\"]}, index=[1, 2, 3])\n",
    "df2 = pd.DataFrame({\"Salary\": [50000, 60000, 70000]}, index=[1, 2, 3])"
   ]
  },
  {
   "cell_type": "code",
   "execution_count": 12,
   "id": "e74a95a0-4ed8-4133-baf5-e3baf16351dc",
   "metadata": {},
   "outputs": [
    {
     "name": "stdout",
     "output_type": "stream",
     "text": [
      "      Name  Salary\n",
      "1    Alice   50000\n",
      "2      Bob   60000\n",
      "3  Charlie   70000\n"
     ]
    }
   ],
   "source": [
    "df_joined = df1.join(df2)\n",
    "print(df_joined)"
   ]
  },
  {
   "cell_type": "code",
   "execution_count": null,
   "id": "4b393e0e-ef86-440c-a934-25b79e970e58",
   "metadata": {},
   "outputs": [],
   "source": [
    "# concat()\tRows/Columns\tIndex-based\t    Stacking DataFrames\n",
    "# merge()\tCommon Columns\tColumn-based\tSQL-style joins\n",
    "# join()\tIndex\t        Index-based\t    Merging on index\n"
   ]
  }
 ],
 "metadata": {
  "kernelspec": {
   "display_name": "Python 3 (ipykernel)",
   "language": "python",
   "name": "python3"
  },
  "language_info": {
   "codemirror_mode": {
    "name": "ipython",
    "version": 3
   },
   "file_extension": ".py",
   "mimetype": "text/x-python",
   "name": "python",
   "nbconvert_exporter": "python",
   "pygments_lexer": "ipython3",
   "version": "3.12.2"
  }
 },
 "nbformat": 4,
 "nbformat_minor": 5
}
