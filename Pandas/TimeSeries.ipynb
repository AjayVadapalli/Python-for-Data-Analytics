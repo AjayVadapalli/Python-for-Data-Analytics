{
 "cells": [
  {
   "cell_type": "code",
   "execution_count": 1,
   "id": "67e1314d-aff7-4a5c-ae76-d2a6af0d4a6a",
   "metadata": {},
   "outputs": [],
   "source": [
    "import pandas as pd\n",
    "\n",
    "# Creating a DataFrame with date strings\n",
    "df = pd.DataFrame({\n",
    "    \"Date\": [\"2024-01-01\", \"2024-01-02\", \"2024-01-03\"],\n",
    "    \"Sales\": [100, 200, 150]\n",
    "})\n"
   ]
  },
  {
   "cell_type": "code",
   "execution_count": 2,
   "id": "6e903039-e42d-4a36-9b6f-c362cd14376e",
   "metadata": {},
   "outputs": [
    {
     "name": "stdout",
     "output_type": "stream",
     "text": [
      "Date     datetime64[ns]\n",
      "Sales             int64\n",
      "dtype: object\n",
      "        Date  Sales\n",
      "0 2024-01-01    100\n",
      "1 2024-01-02    200\n",
      "2 2024-01-03    150\n"
     ]
    }
   ],
   "source": [
    "df[\"Date\"] = pd.to_datetime(df[\"Date\"])\n",
    "print(df.dtypes)  # Check the data type\n",
    "print(df)"
   ]
  },
  {
   "cell_type": "code",
   "execution_count": 3,
   "id": "9cd4f207-566c-48aa-ab15-8af5bd8e2536",
   "metadata": {},
   "outputs": [
    {
     "name": "stdout",
     "output_type": "stream",
     "text": [
      "DatetimeIndex(['2024-01-01', '2024-01-02', '2024-01-03', '2024-01-04',\n",
      "               '2024-01-05'],\n",
      "              dtype='datetime64[ns]', freq='D')\n"
     ]
    }
   ],
   "source": [
    "date_range = pd.date_range(start=\"2024-01-01\", periods=5,freq=\"D\")\n",
    "print(date_range)"
   ]
  },
  {
   "cell_type": "code",
   "execution_count": 5,
   "id": "e06d3b65-62cb-4334-83a8-3135263a2ca8",
   "metadata": {},
   "outputs": [
    {
     "name": "stdout",
     "output_type": "stream",
     "text": [
      "            Sales\n",
      "Date             \n",
      "2024-01-01    100\n",
      "2024-01-02    200\n",
      "2024-01-03    150\n"
     ]
    }
   ],
   "source": [
    "df.set_index(\"Date\", inplace=True)\n",
    "print(df)"
   ]
  },
  {
   "cell_type": "code",
   "execution_count": 6,
   "id": "bc4541f7-b48a-47fe-bb9b-885a0614f5a4",
   "metadata": {},
   "outputs": [
    {
     "name": "stdout",
     "output_type": "stream",
     "text": [
      "            Sales  Year  Month  Day\n",
      "Date                               \n",
      "2024-01-01    100  2024      1    1\n",
      "2024-01-02    200  2024      1    2\n",
      "2024-01-03    150  2024      1    3\n"
     ]
    }
   ],
   "source": [
    "df[\"Year\"] = df.index.year\n",
    "df[\"Month\"] = df.index.month\n",
    "df[\"Day\"] = df.index.day\n",
    "\n",
    "print(df)"
   ]
  },
  {
   "cell_type": "code",
   "execution_count": 7,
   "id": "8cfee287-fdc1-4e2f-ab71-6ba53166c9c3",
   "metadata": {},
   "outputs": [
    {
     "name": "stdout",
     "output_type": "stream",
     "text": [
      "            Sales  Year  Month  Day\n",
      "Date                               \n",
      "2024-01-31    450  6072      3    6\n"
     ]
    },
    {
     "name": "stderr",
     "output_type": "stream",
     "text": [
      "C:\\Users\\ajays\\AppData\\Local\\Temp\\ipykernel_8524\\3423571597.py:1: FutureWarning: 'M' is deprecated and will be removed in a future version, please use 'ME' instead.\n",
      "  df_resampled = df.resample(\"M\").sum()\n"
     ]
    }
   ],
   "source": [
    "df_resampled = df.resample(\"M\").sum()\n",
    "print(df_resampled)\n"
   ]
  },
  {
   "cell_type": "code",
   "execution_count": 8,
   "id": "989fa9a3-efb6-407b-959d-577def37bdab",
   "metadata": {},
   "outputs": [
    {
     "name": "stdout",
     "output_type": "stream",
     "text": [
      "            Sales  Year  Month  Day  Prev_Day_Sales\n",
      "Date                                               \n",
      "2024-01-01    100  2024      1    1             NaN\n",
      "2024-01-02    200  2024      1    2           100.0\n",
      "2024-01-03    150  2024      1    3           200.0\n"
     ]
    }
   ],
   "source": [
    "df[\"Prev_Day_Sales\"] = df[\"Sales\"].shift(1)\n",
    "print(df)"
   ]
  },
  {
   "cell_type": "code",
   "execution_count": 9,
   "id": "009748c3-e6ba-4b7f-9de2-a4e1ee951349",
   "metadata": {},
   "outputs": [
    {
     "name": "stdout",
     "output_type": "stream",
     "text": [
      "            Sales  Year  Month  Day  Prev_Day_Sales  7-day MA\n",
      "Date                                                         \n",
      "2024-01-01    100  2024      1    1             NaN       NaN\n",
      "2024-01-02    200  2024      1    2           100.0     150.0\n",
      "2024-01-03    150  2024      1    3           200.0     175.0\n"
     ]
    }
   ],
   "source": [
    "df[\"7-day MA\"] = df[\"Sales\"].rolling(window=2).mean()\n",
    "print(df)"
   ]
  },
  {
   "cell_type": "code",
   "execution_count": null,
   "id": "c44f786e-b5ef-4901-9c34-efb44dd36d1f",
   "metadata": {},
   "outputs": [],
   "source": [
    "\n",
    "# Convert column to datetime\tpd.to_datetime(df[\"Date\"])\n",
    "# Create date range\t            pd.date_range(start=\"2024-01-01\", periods=5, freq=\"D\")\n",
    "# Set date as index\t            df.set_index(\"Date\", inplace=True)\n",
    "# Extract year, month, day\t    df.index.year, df.index.month, df.index.day\n",
    "# Resample by period\t        df.resample(\"M\").sum()\n",
    "# Shift values (lagging)\t    df.shift(1)\n",
    "# Rolling window (moving avg)\tdf.rolling(window=7).mean()"
   ]
  }
 ],
 "metadata": {
  "kernelspec": {
   "display_name": "Python 3 (ipykernel)",
   "language": "python",
   "name": "python3"
  },
  "language_info": {
   "codemirror_mode": {
    "name": "ipython",
    "version": 3
   },
   "file_extension": ".py",
   "mimetype": "text/x-python",
   "name": "python",
   "nbconvert_exporter": "python",
   "pygments_lexer": "ipython3",
   "version": "3.12.2"
  }
 },
 "nbformat": 4,
 "nbformat_minor": 5
}
