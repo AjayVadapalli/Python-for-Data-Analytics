{
 "cells": [
  {
   "cell_type": "code",
   "execution_count": 1,
   "id": "cae7b93b-8c55-4c61-b7ce-6c2c6b02320a",
   "metadata": {},
   "outputs": [],
   "source": [
    "import pandas as pd"
   ]
  },
  {
   "cell_type": "code",
   "execution_count": 2,
   "id": "3b50f6dd-623b-4891-8652-c9a28069e14a",
   "metadata": {},
   "outputs": [],
   "source": [
    "df = pd.DataFrame({\n",
    "    \"Name\": [\"Alice\", \"Bob\", \"Charlie\", \"David\"],\n",
    "    \"Salary\": [50000, 60000, 70000, 80000]\n",
    "})"
   ]
  },
  {
   "cell_type": "code",
   "execution_count": 3,
   "id": "0214a2c0-c8a8-4475-9d75-452cc4ee7cf9",
   "metadata": {},
   "outputs": [],
   "source": [
    "def add_bonus(salary):\n",
    "    return salary * 1.1"
   ]
  },
  {
   "cell_type": "code",
   "execution_count": 4,
   "id": "55be59e5-e1f6-4c77-9824-8ad8c5bdcd4f",
   "metadata": {},
   "outputs": [
    {
     "name": "stdout",
     "output_type": "stream",
     "text": [
      "      Name  Salary  Salary_with_Bonus\n",
      "0    Alice   50000            55000.0\n",
      "1      Bob   60000            66000.0\n",
      "2  Charlie   70000            77000.0\n",
      "3    David   80000            88000.0\n"
     ]
    }
   ],
   "source": [
    "df[\"Salary_with_Bonus\"] = df[\"Salary\"].apply(add_bonus)\n",
    "print(df)"
   ]
  },
  {
   "cell_type": "code",
   "execution_count": 5,
   "id": "e8ab8ff6-94e1-4f37-a465-8f8d2ffad103",
   "metadata": {},
   "outputs": [
    {
     "name": "stdout",
     "output_type": "stream",
     "text": [
      "      Name  Salary  Salary_with_Bonus Salary_Category\n",
      "0    Alice   50000            55000.0             Low\n",
      "1      Bob   60000            66000.0             Low\n",
      "2  Charlie   70000            77000.0            High\n",
      "3    David   80000            88000.0            High\n"
     ]
    }
   ],
   "source": [
    "# Function to categorize salary\n",
    "df[\"Salary_Category\"] = df.apply(lambda row: \"High\" if row[\"Salary\"] > 60000 else \"Low\", axis=1)\n",
    "print(df)"
   ]
  },
  {
   "cell_type": "code",
   "execution_count": 6,
   "id": "04f16502-c010-4a39-b350-9d2e916a13b8",
   "metadata": {},
   "outputs": [
    {
     "name": "stdout",
     "output_type": "stream",
     "text": [
      "      Name  Salary  Salary_with_Bonus Salary_Category  Salary_in_Lakhs\n",
      "0    Alice   50000            55000.0             Low              0.5\n",
      "1      Bob   60000            66000.0             Low              0.6\n",
      "2  Charlie   70000            77000.0            High              0.7\n",
      "3    David   80000            88000.0            High              0.8\n"
     ]
    }
   ],
   "source": [
    "df[\"Salary_in_Lakhs\"] = df[\"Salary\"].map(lambda x:x/100000)\n",
    "print(df)\n",
    "#map() only works on a single column, not on multiple columns."
   ]
  },
  {
   "cell_type": "code",
   "execution_count": 7,
   "id": "aad7c570-71ce-43f8-b3d9-794e43093334",
   "metadata": {},
   "outputs": [
    {
     "name": "stdout",
     "output_type": "stream",
     "text": [
      "      Name  Salary  Salary_with_Bonus Salary_Category  Salary_in_Lakhs\n",
      "0    ALICE   50000            55000.0             Low              0.5\n",
      "1      BOB   60000            66000.0             Low              0.6\n",
      "2  CHARLIE   70000            77000.0            High              0.7\n",
      "3    DAVID   80000            88000.0            High              0.8\n"
     ]
    },
    {
     "name": "stderr",
     "output_type": "stream",
     "text": [
      "C:\\Users\\ajays\\AppData\\Local\\Temp\\ipykernel_20212\\616739859.py:1: FutureWarning: DataFrame.applymap has been deprecated. Use DataFrame.map instead.\n",
      "  df[[\"Name\"]] = df[[\"Name\"]].applymap(str.upper)\n"
     ]
    }
   ],
   "source": [
    "df[[\"Name\"]] = df[[\"Name\"]].applymap(str.upper)\n",
    "print(df)"
   ]
  },
  {
   "cell_type": "code",
   "execution_count": 8,
   "id": "81c2b143-1471-4e09-974d-2ee6c64c3849",
   "metadata": {},
   "outputs": [],
   "source": [
    "df = pd.DataFrame({\n",
    "    \"Department\": [\"IT\", \"IT\", \"HR\", \"HR\"],\n",
    "    \"Salary\": [50000, 60000, 70000, 80000]\n",
    "})"
   ]
  },
  {
   "cell_type": "code",
   "execution_count": 9,
   "id": "98b3d52d-e385-4bd4-8b7a-4f8ab8295acc",
   "metadata": {},
   "outputs": [
    {
     "name": "stdout",
     "output_type": "stream",
     "text": [
      "  Department  Salary  Salary_Adjusted\n",
      "0         IT   50000          -5000.0\n",
      "1         IT   60000           5000.0\n",
      "2         HR   70000          -5000.0\n",
      "3         HR   80000           5000.0\n"
     ]
    }
   ],
   "source": [
    "df[\"Salary_Adjusted\"] = df.groupby(\"Department\")[\"Salary\"].transform(lambda x: x - x.mean())\n",
    "print(df)"
   ]
  },
  {
   "cell_type": "code",
   "execution_count": 10,
   "id": "c6f35892-f1f9-49be-8319-2add9515d7d2",
   "metadata": {},
   "outputs": [
    {
     "name": "stdout",
     "output_type": "stream",
     "text": [
      "  Department  Salary  Salary_Adjusted  Salary_After_Tax\n",
      "0         IT   50000          -5000.0           45000.0\n",
      "1         IT   60000           5000.0           54000.0\n",
      "2         HR   70000          -5000.0           63000.0\n",
      "3         HR   80000           5000.0           72000.0\n"
     ]
    }
   ],
   "source": [
    "def calculate_tax(salary, tax_rate):\n",
    "    return salary - (salary * tax_rate)\n",
    "df[\"Salary_After_Tax\"] = df[\"Salary\"].apply(calculate_tax, tax_rate=0.1)\n",
    "print(df)\n"
   ]
  },
  {
   "cell_type": "code",
   "execution_count": null,
   "id": "4850631e-866a-498b-a0fc-5fc616a781c2",
   "metadata": {},
   "outputs": [],
   "source": [
    "# apply()\t   Columns/Rows\t      Complex transformations\n",
    "# map()\t       Single column\t  Element-wise changes\n",
    "# applymap()   Entire DataFrame\t  Apply function to all elements\n",
    "# transform()  Grouped Data\t      Group-wise calculations, keeps shape"
   ]
  }
 ],
 "metadata": {
  "kernelspec": {
   "display_name": "Python 3 (ipykernel)",
   "language": "python",
   "name": "python3"
  },
  "language_info": {
   "codemirror_mode": {
    "name": "ipython",
    "version": 3
   },
   "file_extension": ".py",
   "mimetype": "text/x-python",
   "name": "python",
   "nbconvert_exporter": "python",
   "pygments_lexer": "ipython3",
   "version": "3.12.2"
  }
 },
 "nbformat": 4,
 "nbformat_minor": 5
}
