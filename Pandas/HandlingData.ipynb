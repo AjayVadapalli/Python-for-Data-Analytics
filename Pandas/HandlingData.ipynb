{
 "cells": [
  {
   "cell_type": "code",
   "execution_count": 1,
   "id": "de4d0ab5-36f4-4bba-a413-58567817faf5",
   "metadata": {},
   "outputs": [],
   "source": [
    "import pandas as pd\n",
    "import numpy as np"
   ]
  },
  {
   "cell_type": "code",
   "execution_count": 2,
   "id": "604151ef-9bd0-4377-b292-b28eaaf57f6d",
   "metadata": {},
   "outputs": [],
   "source": [
    "data = {\n",
    "    \"Name\": [\"Alice\", \"Bob\", \"Charlie\", \"David\", \"Eve\"],\n",
    "    \"Age\": [25, np.nan, 35, 40, np.nan],\n",
    "    \"City\": [\"New York\", \"Los Angeles\", np.nan, \"Houston\", \"Phoenix\"],\n",
    "    \"Salary\": [50000, 60000, 75000, np.nan, 45000]\n",
    "}\n",
    "\n",
    "df = pd.DataFrame(data)"
   ]
  },
  {
   "cell_type": "code",
   "execution_count": 3,
   "id": "46e27576-7420-4a17-b6d7-14bf83c1d2d5",
   "metadata": {},
   "outputs": [
    {
     "name": "stdout",
     "output_type": "stream",
     "text": [
      "    Name    Age   City  Salary\n",
      "0  False  False  False   False\n",
      "1  False   True  False   False\n",
      "2  False  False   True   False\n",
      "3  False  False  False    True\n",
      "4  False   True  False   False\n"
     ]
    }
   ],
   "source": [
    "print(df.isna())"
   ]
  },
  {
   "cell_type": "code",
   "execution_count": 33,
   "id": "f74050a8-22ae-4af5-ae7c-e24fcb58957b",
   "metadata": {},
   "outputs": [
    {
     "name": "stdout",
     "output_type": "stream",
     "text": [
      "      Name        Age         City   Salary\n",
      "0    Alice  25.000000     New York  50000.0\n",
      "1      Bob  33.333333  Los Angeles  60000.0\n",
      "2  Charlie        NaN          NaN  75000.0\n",
      "3    David  40.000000      Houston      NaN\n",
      "4      Eve  33.333333      Phoenix  45000.0\n"
     ]
    }
   ],
   "source": [
    "print(df)"
   ]
  },
  {
   "cell_type": "code",
   "execution_count": 34,
   "id": "7eb7125b-9604-4334-ba00-7070c73b186a",
   "metadata": {},
   "outputs": [
    {
     "name": "stdout",
     "output_type": "stream",
     "text": [
      "    Name        Age         City   Salary\n",
      "0  Alice  25.000000     New York  50000.0\n",
      "1    Bob  33.333333  Los Angeles  60000.0\n",
      "3  David  40.000000      Houston      NaN\n",
      "4    Eve  33.333333      Phoenix  45000.0\n"
     ]
    }
   ],
   "source": [
    "print(df.dropna(thresh=3))"
   ]
  },
  {
   "cell_type": "code",
   "execution_count": 4,
   "id": "5e2879e0-dd75-468a-97ce-27c46ae18c74",
   "metadata": {},
   "outputs": [
    {
     "name": "stdout",
     "output_type": "stream",
     "text": [
      "Name      0\n",
      "Age       2\n",
      "City      1\n",
      "Salary    1\n",
      "dtype: int64\n"
     ]
    }
   ],
   "source": [
    "print(df.isna().sum())"
   ]
  },
  {
   "cell_type": "code",
   "execution_count": 6,
   "id": "9cec86fd-dcf3-4ee2-b499-17bba346146c",
   "metadata": {},
   "outputs": [
    {
     "name": "stdout",
     "output_type": "stream",
     "text": [
      "    Name   Age      City   Salary\n",
      "0  Alice  25.0  New York  50000.0\n"
     ]
    }
   ],
   "source": [
    "print(df.dropna())"
   ]
  },
  {
   "cell_type": "code",
   "execution_count": 7,
   "id": "e30622c7-e585-432c-98f7-cf6f9de91881",
   "metadata": {},
   "outputs": [
    {
     "name": "stdout",
     "output_type": "stream",
     "text": [
      "      Name\n",
      "0    Alice\n",
      "1      Bob\n",
      "2  Charlie\n",
      "3    David\n",
      "4      Eve\n"
     ]
    }
   ],
   "source": [
    "print(df.dropna(axis=1))"
   ]
  },
  {
   "cell_type": "code",
   "execution_count": 8,
   "id": "0d04dc3a-519d-41c7-942b-13ce5684a48b",
   "metadata": {},
   "outputs": [
    {
     "name": "stdout",
     "output_type": "stream",
     "text": [
      "      Name   Age         City   Salary\n",
      "0    Alice  25.0     New York  50000.0\n",
      "1      Bob   0.0  Los Angeles  60000.0\n",
      "2  Charlie  35.0            0  75000.0\n",
      "3    David  40.0      Houston      0.0\n",
      "4      Eve   0.0      Phoenix  45000.0\n"
     ]
    }
   ],
   "source": [
    "print(df.fillna(0))"
   ]
  },
  {
   "cell_type": "code",
   "execution_count": 13,
   "id": "d61b0434-fd2f-43d1-b3c9-c25212a137cc",
   "metadata": {},
   "outputs": [
    {
     "data": {
      "text/plain": [
       "0    25.000000\n",
       "1    33.333333\n",
       "2    35.000000\n",
       "3    40.000000\n",
       "4    33.333333\n",
       "Name: Age, dtype: float64"
      ]
     },
     "execution_count": 13,
     "metadata": {},
     "output_type": "execute_result"
    }
   ],
   "source": [
    "df[\"Age\"].fillna(df[\"Age\"].mean())"
   ]
  },
  {
   "cell_type": "code",
   "execution_count": 14,
   "id": "8b2f3721-1c49-444e-9920-2556c235fa80",
   "metadata": {},
   "outputs": [
    {
     "data": {
      "text/plain": [
       "0    50000.0\n",
       "1    60000.0\n",
       "2    75000.0\n",
       "3    55000.0\n",
       "4    45000.0\n",
       "Name: Salary, dtype: float64"
      ]
     },
     "execution_count": 14,
     "metadata": {},
     "output_type": "execute_result"
    }
   ],
   "source": [
    "df[\"Salary\"].fillna(df[\"Salary\"].median())"
   ]
  },
  {
   "cell_type": "code",
   "execution_count": 15,
   "id": "9f949294-8eed-4b17-b7d2-e5c28152985a",
   "metadata": {},
   "outputs": [
    {
     "name": "stdout",
     "output_type": "stream",
     "text": [
      "      Name        Age         City   Salary\n",
      "0    Alice  25.000000     New York  50000.0\n",
      "1      Bob  33.333333  Los Angeles  60000.0\n",
      "2  Charlie  35.000000  Los Angeles  75000.0\n",
      "3    David  40.000000      Houston  75000.0\n",
      "4      Eve  33.333333      Phoenix  45000.0\n"
     ]
    },
    {
     "name": "stderr",
     "output_type": "stream",
     "text": [
      "C:\\Users\\ajays\\AppData\\Local\\Temp\\ipykernel_15896\\1103946584.py:1: FutureWarning: DataFrame.fillna with 'method' is deprecated and will raise in a future version. Use obj.ffill() or obj.bfill() instead.\n",
      "  print(df.fillna(method=\"ffill\"))\n"
     ]
    }
   ],
   "source": [
    "print(df.fillna(method=\"ffill\"))"
   ]
  },
  {
   "cell_type": "code",
   "execution_count": 16,
   "id": "fbce3eb5-2c63-4cc2-97c3-76448e7d1ca3",
   "metadata": {},
   "outputs": [
    {
     "name": "stdout",
     "output_type": "stream",
     "text": [
      "      Name        Age         City   Salary\n",
      "0    Alice  25.000000     New York  50000.0\n",
      "1      Bob  33.333333  Los Angeles  60000.0\n",
      "2  Charlie  35.000000      Houston  75000.0\n",
      "3    David  40.000000      Houston  45000.0\n",
      "4      Eve  33.333333      Phoenix  45000.0\n"
     ]
    },
    {
     "name": "stderr",
     "output_type": "stream",
     "text": [
      "C:\\Users\\ajays\\AppData\\Local\\Temp\\ipykernel_15896\\1897337824.py:1: FutureWarning: DataFrame.fillna with 'method' is deprecated and will raise in a future version. Use obj.ffill() or obj.bfill() instead.\n",
      "  print(df.fillna(method = \"bfill\"))\n"
     ]
    }
   ],
   "source": [
    "print(df.fillna(method = \"bfill\"))"
   ]
  },
  {
   "cell_type": "code",
   "execution_count": 32,
   "id": "7861563c-c8fe-4d04-a188-ed896d6ee5a5",
   "metadata": {},
   "outputs": [
    {
     "name": "stdout",
     "output_type": "stream",
     "text": [
      "      Name        Age         City   Salary\n",
      "0    Alice  25.000000     New York  50000.0\n",
      "1      Bob  33.333333  Los Angeles  60000.0\n",
      "2  Charlie        NaN          NaN  75000.0\n",
      "3    David  40.000000      Houston      NaN\n",
      "4      Eve  33.333333      Phoenix  45000.0\n"
     ]
    }
   ],
   "source": [
    "df.iloc[2,1] =np.nan\n",
    "print(df)"
   ]
  },
  {
   "cell_type": "code",
   "execution_count": 31,
   "id": "52bb065d-65fc-464e-97c1-8c7b217faa3f",
   "metadata": {},
   "outputs": [
    {
     "name": "stdout",
     "output_type": "stream",
     "text": [
      "      Name        Age         City   Salary\n",
      "0    Alice  25.000000     New York  50000.0\n",
      "1      Bob  33.333333  Los Angeles  60000.0\n",
      "2  Charlie  36.666667          NaN  75000.0\n",
      "3    David  40.000000      Houston  60000.0\n",
      "4      Eve  33.333333      Phoenix  45000.0\n"
     ]
    },
    {
     "name": "stderr",
     "output_type": "stream",
     "text": [
      "C:\\Users\\ajays\\AppData\\Local\\Temp\\ipykernel_15896\\876667172.py:1: FutureWarning: DataFrame.interpolate with object dtype is deprecated and will raise in a future version. Call obj.infer_objects(copy=False) before interpolating instead.\n",
      "  df_interpolated = df.interpolate()\n"
     ]
    }
   ],
   "source": [
    "df_interpolated = df.interpolate()\n",
    "print(df_interpolated)"
   ]
  },
  {
   "cell_type": "code",
   "execution_count": null,
   "id": "bbbe9519-5e4b-4cea-97b7-349f2ee822fc",
   "metadata": {},
   "outputs": [],
   "source": [
    "df.isna() / df.isnull()\t     Find missing values\n",
    "df.isna().sum()\t             Count missing values per column\n",
    "df.dropna()\t                 Remove rows with NaN values\n",
    "df.dropna(axis=1)\t         Remove columns with NaN values\n",
    "df.fillna(value)\t         Fill NaN with a specific value\n",
    "df.fillna(df[\"col\"].mean())\t Fill NaN with column mean\n",
    "df.fillna(method=\"ffill\")\t Forward-fill missing values\n",
    "df.fillna(method=\"bfill\")\t Backward-fill missing values\n",
    "df.interpolate()\t         Estimate missing values mathematically\n",
    "df.dropna(thresh=n)\t         Keep rows with at least n non-null values"
   ]
  }
 ],
 "metadata": {
  "kernelspec": {
   "display_name": "Python 3 (ipykernel)",
   "language": "python",
   "name": "python3"
  },
  "language_info": {
   "codemirror_mode": {
    "name": "ipython",
    "version": 3
   },
   "file_extension": ".py",
   "mimetype": "text/x-python",
   "name": "python",
   "nbconvert_exporter": "python",
   "pygments_lexer": "ipython3",
   "version": "3.12.2"
  }
 },
 "nbformat": 4,
 "nbformat_minor": 5
}
