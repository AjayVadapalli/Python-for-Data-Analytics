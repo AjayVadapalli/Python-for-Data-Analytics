{
 "cells": [
  {
   "cell_type": "code",
   "execution_count": 1,
   "id": "f240b952-7bce-45dc-93f9-4e2aafac464c",
   "metadata": {},
   "outputs": [],
   "source": [
    "import pandas as pd"
   ]
  },
  {
   "cell_type": "code",
   "execution_count": 2,
   "id": "0d8b5550-6cb2-473e-82e0-99b695cee302",
   "metadata": {},
   "outputs": [],
   "source": [
    "data = {\n",
    "    \"Department\": [\"HR\", \"IT\", \"IT\", \"HR\", \"Finance\", \"Finance\", \"IT\"],\n",
    "    \"Employee\": [\"Alice\", \"Bob\", \"Charlie\", \"David\", \"Eve\", \"Frank\", \"Grace\"],\n",
    "    \"Salary\": [50000, 60000, 70000, 52000, 75000, 78000, 72000]\n",
    "}\n",
    "\n",
    "df = pd.DataFrame(data)"
   ]
  },
  {
   "cell_type": "code",
   "execution_count": 3,
   "id": "b8023893-e3e8-4abc-82db-b5145d63812d",
   "metadata": {},
   "outputs": [
    {
     "name": "stdout",
     "output_type": "stream",
     "text": [
      "Department\n",
      "Finance    76500.000000\n",
      "HR         51000.000000\n",
      "IT         67333.333333\n",
      "Name: Salary, dtype: float64\n"
     ]
    }
   ],
   "source": [
    "print(df.groupby(\"Department\")[\"Salary\"].mean())"
   ]
  },
  {
   "cell_type": "code",
   "execution_count": 4,
   "id": "7c6e5129-4a72-4975-848c-645da5a84c6c",
   "metadata": {},
   "outputs": [
    {
     "data": {
      "text/html": [
       "<div>\n",
       "<style scoped>\n",
       "    .dataframe tbody tr th:only-of-type {\n",
       "        vertical-align: middle;\n",
       "    }\n",
       "\n",
       "    .dataframe tbody tr th {\n",
       "        vertical-align: top;\n",
       "    }\n",
       "\n",
       "    .dataframe thead th {\n",
       "        text-align: right;\n",
       "    }\n",
       "</style>\n",
       "<table border=\"1\" class=\"dataframe\">\n",
       "  <thead>\n",
       "    <tr style=\"text-align: right;\">\n",
       "      <th></th>\n",
       "      <th>mean</th>\n",
       "      <th>sum</th>\n",
       "      <th>max</th>\n",
       "      <th>min</th>\n",
       "    </tr>\n",
       "    <tr>\n",
       "      <th>Department</th>\n",
       "      <th></th>\n",
       "      <th></th>\n",
       "      <th></th>\n",
       "      <th></th>\n",
       "    </tr>\n",
       "  </thead>\n",
       "  <tbody>\n",
       "    <tr>\n",
       "      <th>Finance</th>\n",
       "      <td>76500.000000</td>\n",
       "      <td>153000</td>\n",
       "      <td>78000</td>\n",
       "      <td>75000</td>\n",
       "    </tr>\n",
       "    <tr>\n",
       "      <th>HR</th>\n",
       "      <td>51000.000000</td>\n",
       "      <td>102000</td>\n",
       "      <td>52000</td>\n",
       "      <td>50000</td>\n",
       "    </tr>\n",
       "    <tr>\n",
       "      <th>IT</th>\n",
       "      <td>67333.333333</td>\n",
       "      <td>202000</td>\n",
       "      <td>72000</td>\n",
       "      <td>60000</td>\n",
       "    </tr>\n",
       "  </tbody>\n",
       "</table>\n",
       "</div>"
      ],
      "text/plain": [
       "                    mean     sum    max    min\n",
       "Department                                    \n",
       "Finance     76500.000000  153000  78000  75000\n",
       "HR          51000.000000  102000  52000  50000\n",
       "IT          67333.333333  202000  72000  60000"
      ]
     },
     "execution_count": 4,
     "metadata": {},
     "output_type": "execute_result"
    }
   ],
   "source": [
    "df.groupby(\"Department\")[\"Salary\"].agg([\"mean\",\"sum\",\"max\",\"min\"])"
   ]
  },
  {
   "cell_type": "code",
   "execution_count": 5,
   "id": "9a6fb2bd-62d3-4ad9-ab8a-041bf8e97161",
   "metadata": {},
   "outputs": [
    {
     "data": {
      "text/plain": [
       "Department  Employee\n",
       "Finance     Eve         75000\n",
       "            Frank       78000\n",
       "HR          Alice       50000\n",
       "            David       52000\n",
       "IT          Bob         60000\n",
       "            Charlie     70000\n",
       "            Grace       72000\n",
       "Name: Salary, dtype: int64"
      ]
     },
     "execution_count": 5,
     "metadata": {},
     "output_type": "execute_result"
    }
   ],
   "source": [
    "df.groupby([\"Department\",\"Employee\"])[\"Salary\"].sum()"
   ]
  },
  {
   "cell_type": "code",
   "execution_count": 6,
   "id": "86d6006c-c6f6-4dbf-8347-d08564555c3d",
   "metadata": {},
   "outputs": [
    {
     "data": {
      "text/html": [
       "<div>\n",
       "<style scoped>\n",
       "    .dataframe tbody tr th:only-of-type {\n",
       "        vertical-align: middle;\n",
       "    }\n",
       "\n",
       "    .dataframe tbody tr th {\n",
       "        vertical-align: top;\n",
       "    }\n",
       "\n",
       "    .dataframe thead th {\n",
       "        text-align: right;\n",
       "    }\n",
       "</style>\n",
       "<table border=\"1\" class=\"dataframe\">\n",
       "  <thead>\n",
       "    <tr style=\"text-align: right;\">\n",
       "      <th></th>\n",
       "      <th>Department</th>\n",
       "      <th>Employee</th>\n",
       "      <th>Salary</th>\n",
       "    </tr>\n",
       "  </thead>\n",
       "  <tbody>\n",
       "    <tr>\n",
       "      <th>1</th>\n",
       "      <td>IT</td>\n",
       "      <td>Bob</td>\n",
       "      <td>60000</td>\n",
       "    </tr>\n",
       "    <tr>\n",
       "      <th>2</th>\n",
       "      <td>IT</td>\n",
       "      <td>Charlie</td>\n",
       "      <td>70000</td>\n",
       "    </tr>\n",
       "    <tr>\n",
       "      <th>4</th>\n",
       "      <td>Finance</td>\n",
       "      <td>Eve</td>\n",
       "      <td>75000</td>\n",
       "    </tr>\n",
       "    <tr>\n",
       "      <th>5</th>\n",
       "      <td>Finance</td>\n",
       "      <td>Frank</td>\n",
       "      <td>78000</td>\n",
       "    </tr>\n",
       "    <tr>\n",
       "      <th>6</th>\n",
       "      <td>IT</td>\n",
       "      <td>Grace</td>\n",
       "      <td>72000</td>\n",
       "    </tr>\n",
       "  </tbody>\n",
       "</table>\n",
       "</div>"
      ],
      "text/plain": [
       "  Department Employee  Salary\n",
       "1         IT      Bob   60000\n",
       "2         IT  Charlie   70000\n",
       "4    Finance      Eve   75000\n",
       "5    Finance    Frank   78000\n",
       "6         IT    Grace   72000"
      ]
     },
     "execution_count": 6,
     "metadata": {},
     "output_type": "execute_result"
    }
   ],
   "source": [
    "df.groupby(\"Department\").filter(lambda x: x[\"Salary\"].mean()>60000)"
   ]
  },
  {
   "cell_type": "code",
   "execution_count": 7,
   "id": "40a596f5-b183-4384-aa6d-7dfe9cbd33c7",
   "metadata": {},
   "outputs": [
    {
     "data": {
      "text/plain": [
       "Department\n",
       "Finance     3000\n",
       "HR          2000\n",
       "IT         12000\n",
       "Name: Salary, dtype: int64"
      ]
     },
     "execution_count": 7,
     "metadata": {},
     "output_type": "execute_result"
    }
   ],
   "source": [
    "df.groupby(\"Department\")[\"Salary\"].apply(lambda x:x.max()-x.min())"
   ]
  },
  {
   "cell_type": "code",
   "execution_count": 8,
   "id": "038b475b-9783-420f-b0af-b906c8a5030e",
   "metadata": {},
   "outputs": [],
   "source": [
    "df = pd.DataFrame({\n",
    "    \"Name\": [\"Alice\", \"Bob\", \"Charlie\", \"David\"],\n",
    "    \"Salary\": [50000, 60000, 70000, 80000]\n",
    "})"
   ]
  },
  {
   "cell_type": "code",
   "execution_count": 9,
   "id": "d17c7fee-9215-457e-a69d-07a4874f1bb0",
   "metadata": {},
   "outputs": [],
   "source": [
    "def add_bonus(Salary):\n",
    "    return Salary*1.1"
   ]
  },
  {
   "cell_type": "code",
   "execution_count": 11,
   "id": "e33ea707-0d59-4720-bc0a-7af6bc7b1b33",
   "metadata": {},
   "outputs": [
    {
     "name": "stdout",
     "output_type": "stream",
     "text": [
      "      Name  Salary  Salary_with_Bonus\n",
      "0    Alice   50000            55000.0\n",
      "1      Bob   60000            66000.0\n",
      "2  Charlie   70000            77000.0\n",
      "3    David   80000            88000.0\n"
     ]
    }
   ],
   "source": [
    "df[\"Salary_with_Bonus\"] = df[\"Salary\"].apply(add_bonus)\n",
    "print(df)"
   ]
  },
  {
   "cell_type": "code",
   "execution_count": 12,
   "id": "fab5b280-c1d8-4cc7-92a6-62c67ee3ed21",
   "metadata": {},
   "outputs": [
    {
     "name": "stdout",
     "output_type": "stream",
     "text": [
      "      Name  Salary  Salary_with_Bonus Salary_Category\n",
      "0    Alice   50000            55000.0             Low\n",
      "1      Bob   60000            66000.0             Low\n",
      "2  Charlie   70000            77000.0            High\n",
      "3    David   80000            88000.0            High\n"
     ]
    }
   ],
   "source": [
    "df[\"Salary_Category\"] = df[\"Salary\"].apply(lambda x: \"High\" if x > 60000 else \"Low\")\n",
    "\n",
    "print(df)"
   ]
  },
  {
   "cell_type": "code",
   "execution_count": 13,
   "id": "bcdf495c-baff-4363-8d5b-c28e87da76e2",
   "metadata": {},
   "outputs": [
    {
     "name": "stdout",
     "output_type": "stream",
     "text": [
      "      Name  Salary  Salary_with_Bonus Salary_Category  Salary_in_Lakhs\n",
      "0    Alice   50000            55000.0             Low              0.5\n",
      "1      Bob   60000            66000.0             Low              0.6\n",
      "2  Charlie   70000            77000.0            High              0.7\n",
      "3    David   80000            88000.0            High              0.8\n"
     ]
    }
   ],
   "source": [
    "df[\"Salary_in_Lakhs\"] = df[\"Salary\"].map(lambda x: x / 100000)\n",
    "print(df)"
   ]
  },
  {
   "cell_type": "code",
   "execution_count": 14,
   "id": "2b9f1c8d-0b9e-4bc2-9fb3-3f7e270efef3",
   "metadata": {},
   "outputs": [
    {
     "name": "stdout",
     "output_type": "stream",
     "text": [
      "      Name  Salary  Salary_with_Bonus Salary_Category  Salary_in_Lakhs\n",
      "0    ALICE   50000            55000.0             Low              0.5\n",
      "1      BOB   60000            66000.0             Low              0.6\n",
      "2  CHARLIE   70000            77000.0            High              0.7\n",
      "3    DAVID   80000            88000.0            High              0.8\n"
     ]
    },
    {
     "name": "stderr",
     "output_type": "stream",
     "text": [
      "C:\\Users\\ajays\\AppData\\Local\\Temp\\ipykernel_18188\\616739859.py:1: FutureWarning: DataFrame.applymap has been deprecated. Use DataFrame.map instead.\n",
      "  df[[\"Name\"]] = df[[\"Name\"]].applymap(str.upper)\n"
     ]
    }
   ],
   "source": [
    "df[[\"Name\"]] = df[[\"Name\"]].applymap(str.upper)\n",
    "print(df)"
   ]
  },
  {
   "cell_type": "code",
   "execution_count": 21,
   "id": "1739b0e0-7353-459b-87a3-93e6ac9dd608",
   "metadata": {},
   "outputs": [
    {
     "name": "stdout",
     "output_type": "stream",
     "text": [
      "      Name  Salary  Salary_with_Bonus Salary_Category  Salary_in_Lakhs  \\\n",
      "0    ALICE   50000            55000.0             Low              0.5   \n",
      "1      BOB   60000            66000.0             Low              0.6   \n",
      "2  CHARLIE   70000            77000.0            High              0.7   \n",
      "3    DAVID   80000            88000.0            High              0.8   \n",
      "\n",
      "   Salary_Adjusted  \n",
      "0              0.0  \n",
      "1              0.0  \n",
      "2              0.0  \n",
      "3              0.0  \n"
     ]
    }
   ],
   "source": [
    "df[\"Salary_Adjusted\"] = df.groupby(\"Name\")[\"Salary\"].transform(lambda x: x - x.mean())\n",
    "\n",
    "print(df)"
   ]
  },
  {
   "cell_type": "code",
   "execution_count": null,
   "id": "1941fbd6-f49e-45c0-87f2-61c8384158fb",
   "metadata": {},
   "outputs": [],
   "source": [
    "apply()\t     Columns/Rows\t    Complex transformations\n",
    "map()\t     Single column\t    Element-wise changes\n",
    "applymap()\t Entire DataFrame\tApply function to all elements\n",
    "transform()\t Grouped Data\t    Group-wise calculations, keeps shape"
   ]
  }
 ],
 "metadata": {
  "kernelspec": {
   "display_name": "Python 3 (ipykernel)",
   "language": "python",
   "name": "python3"
  },
  "language_info": {
   "codemirror_mode": {
    "name": "ipython",
    "version": 3
   },
   "file_extension": ".py",
   "mimetype": "text/x-python",
   "name": "python",
   "nbconvert_exporter": "python",
   "pygments_lexer": "ipython3",
   "version": "3.12.2"
  }
 },
 "nbformat": 4,
 "nbformat_minor": 5
}
